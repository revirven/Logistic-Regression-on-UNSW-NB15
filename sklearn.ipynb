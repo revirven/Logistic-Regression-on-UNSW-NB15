{
 "cells": [
  {
   "cell_type": "markdown",
   "metadata": {},
   "source": [
    "### Loading required modules"
   ]
  },
  {
   "cell_type": "code",
   "execution_count": 1,
   "metadata": {},
   "outputs": [],
   "source": [
    "import pandas as pd\n",
    "\n",
    "from sklearn.metrics import confusion_matrix, zero_one_loss, accuracy_score\n",
    "from sklearn.linear_model import LogisticRegression\n",
    "from sklearn.preprocessing import StandardScaler\n",
    "from sklearn.preprocessing import LabelEncoder"
   ]
  },
  {
   "cell_type": "markdown",
   "metadata": {},
   "source": [
    "### Loading datasets"
   ]
  },
  {
   "cell_type": "code",
   "execution_count": 2,
   "metadata": {},
   "outputs": [],
   "source": [
    "unsw_train = pd.read_csv(\"UNSW_NB15_training-set.csv\")\n",
    "unsw_test = pd.read_csv(\"UNSW_NB15_testing-set.csv\")"
   ]
  },
  {
   "cell_type": "markdown",
   "metadata": {},
   "source": [
    "### Data preprocessing"
   ]
  },
  {
   "cell_type": "markdown",
   "metadata": {},
   "source": [
    "Creating pair of (x, y):"
   ]
  },
  {
   "cell_type": "code",
   "execution_count": 3,
   "metadata": {},
   "outputs": [],
   "source": [
    "x_train = unsw_train.drop([\"id\", \"attack_cat\", \"label\"], axis=1)\n",
    "y_train = unsw_train[\"label\"]\n",
    "\n",
    "x_test = unsw_test.drop([\"id\", \"attack_cat\", \"label\"], axis=1)\n",
    "y_test = unsw_test[\"label\"]"
   ]
  },
  {
   "cell_type": "markdown",
   "metadata": {},
   "source": [
    "Normalize labels:"
   ]
  },
  {
   "cell_type": "code",
   "execution_count": 4,
   "metadata": {},
   "outputs": [],
   "source": [
    "le = LabelEncoder()\n",
    "\n",
    "x_labels  = [\"proto\", \"service\", \"state\"]\n",
    "\n",
    "for i in x_labels:\n",
    "    x_train[i] = le.fit_transform(x_train[i])\n",
    "    x_test[i] = le.fit_transform(x_test[i])"
   ]
  },
  {
   "cell_type": "markdown",
   "metadata": {},
   "source": [
    "Data scaling:"
   ]
  },
  {
   "cell_type": "code",
   "execution_count": 5,
   "metadata": {},
   "outputs": [],
   "source": [
    "scaler = StandardScaler()\n",
    "x_train = scaler.fit_transform(x_train)\n",
    "x_test = scaler.fit_transform(x_test)"
   ]
  },
  {
   "cell_type": "markdown",
   "metadata": {},
   "source": [
    "Logistic Regression:"
   ]
  },
  {
   "cell_type": "code",
   "execution_count": 6,
   "metadata": {},
   "outputs": [],
   "source": [
    "lr = LogisticRegression(solver=\"saga\", max_iter=10000)\n",
    "lr.fit(x_train, y_train)\n",
    "result = lr.predict(x_test)"
   ]
  },
  {
   "cell_type": "markdown",
   "metadata": {},
   "source": [
    "Results display:"
   ]
  },
  {
   "cell_type": "code",
   "execution_count": 7,
   "metadata": {},
   "outputs": [
    {
     "name": "stdout",
     "output_type": "stream",
     "text": [
      "====================== Confusion Matrix ======================\n",
      "[[52883  3117]\n",
      " [22417 96924]]\n",
      "==============================================================\n",
      "Error: 14.56%\n",
      "Accuracy: 85.44%\n",
      "\n"
     ]
    }
   ],
   "source": [
    "c_matrix = confusion_matrix(y_test, result)\n",
    "error = zero_one_loss(y_test, result) * 100\n",
    "accuracy = accuracy_score(y_test, result) * 100\n",
    "\n",
    "print(\"====================== Confusion Matrix ======================\")\n",
    "print(c_matrix)\n",
    "print(\"==============================================================\")\n",
    "print(\"Error: {:.2f}%\".format(error))\n",
    "print(\"Accuracy: {:.2f}%\".format(accuracy) + \"\\n\")"
   ]
  }
 ],
 "metadata": {
  "interpreter": {
   "hash": "31f2aee4e71d21fbe5cf8b01ff0e069b9275f58929596ceb00d14d90e3e16cd6"
  },
  "kernelspec": {
   "display_name": "Python 3.9.7 64-bit",
   "language": "python",
   "name": "python3"
  },
  "language_info": {
   "codemirror_mode": {
    "name": "ipython",
    "version": 3
   },
   "file_extension": ".py",
   "mimetype": "text/x-python",
   "name": "python",
   "nbconvert_exporter": "python",
   "pygments_lexer": "ipython3",
   "version": "3.9.11"
  },
  "orig_nbformat": 4
 },
 "nbformat": 4,
 "nbformat_minor": 2
}
